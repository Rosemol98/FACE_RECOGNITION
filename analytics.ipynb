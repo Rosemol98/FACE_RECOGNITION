import pandas as pd
import numpy as np
import matplotlib.pyplot as plt
import seaborn as sns
import plotly.express as px
import os
from keras.models import load_model

# Load the pre-trained Emotion Recognition CNN model
model = load_model('emotion_recognition.h5')

# Define the emotions that the model can recognize
emotions = {0: 'angry', 1: 'disgust', 2: 'fear', 3: 'happy', 4: 'sad', 5: 'surprise', 6: 'neutral'}
# Load the image and convert it to grayscale
img = cv2.imread('face_image.jpg')
gray = cv2.cvtColor(img, cv2.COLOR_BGR2GRAY)

# Detect faces in the grayscale image using a face detection classifier
face_cascade = cv2.CascadeClassifier('haarcascade_frontalface_default.xml')
faces = face_cascade.detectMultiScale(gray, scaleFactor=1.3, minNeighbors=5)

# For each face detected, predict the emotion using the pre-trained CNN model
for (x, y, w, h) in faces:
    face = gray[y:y+h, x:x+w]  # Crop the face region from the image
    face = cv2.resize(face, (48, 48))  # Resize the face image to 48x48 pixels
    face = np.reshape(face, (1, 48, 48, 1))  # Reshape the face image for input to the model
    face = face / 255.0  # Normalize the face image pixel values
    prediction = model.predict(face)  # Predict the emotion probabilities for the face image
    emotion = emotions[np.argmax(prediction)]  # Get the emotion with the highest probability

    # Draw a rectangle around the face and label it with the predicted emotion
    cv2.rectangle(img, (x, y), (x+w, y+h), (0, 255, 0), 2)
    cv2.putText(img, emotion, (x, y-10), cv2.FONT_HERSHEY_SIMPLEX, 0.9, (0, 255, 0), 2)

# Display the image with emotions labeled
cv2.imshow('Emotion Recognition', img)
cv2.waitKey(0)
cv2.destroyAllWindows()

